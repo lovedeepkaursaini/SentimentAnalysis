{
  "cells": [
    {
      "cell_type": "markdown",
      "metadata": {
        "id": "view-in-github",
        "colab_type": "text"
      },
      "source": [
        "<a href=\"https://colab.research.google.com/github/lovedeepkaursaini/SentimentAnalysis/blob/main/SpeechToText%20Using%20OpenAI's%20Whisper_API.ipynb\" target=\"_parent\"><img src=\"https://colab.research.google.com/assets/colab-badge.svg\" alt=\"Open In Colab\"/></a>"
      ]
    },
    {
      "cell_type": "markdown",
      "id": "f7452483",
      "metadata": {
        "id": "f7452483"
      },
      "source": [
        "# Whisper API - Audio Summary "
      ]
    },
    {
      "cell_type": "code",
      "execution_count": 2,
      "id": "ec0c70a6",
      "metadata": {
        "id": "ec0c70a6"
      },
      "outputs": [],
      "source": [
        "import os\n",
        "import openai\n",
        "openai.api_key = os.getenv(\"OPENAI_API_KEY\")"
      ]
    },
    {
      "cell_type": "markdown",
      "source": [
        "# upload your audio file"
      ],
      "metadata": {
        "id": "Z4dacIkOXa12"
      },
      "id": "Z4dacIkOXa12"
    },
    {
      "cell_type": "code",
      "source": [
        "from google.colab import files\n",
        "imported = files.upload()"
      ],
      "metadata": {
        "colab": {
          "base_uri": "https://localhost:8080/",
          "height": 73
        },
        "id": "PNZ9GlIUOOrY",
        "outputId": "d822a44d-da01-4970-edb4-3e06d07c8f60"
      },
      "id": "PNZ9GlIUOOrY",
      "execution_count": 3,
      "outputs": [
        {
          "output_type": "display_data",
          "data": {
            "text/plain": [
              "<IPython.core.display.HTML object>"
            ],
            "text/html": [
              "\n",
              "     <input type=\"file\" id=\"files-0c4c0d83-d602-4145-856c-0b2a8844fdba\" name=\"files[]\" multiple disabled\n",
              "        style=\"border:none\" />\n",
              "     <output id=\"result-0c4c0d83-d602-4145-856c-0b2a8844fdba\">\n",
              "      Upload widget is only available when the cell has been executed in the\n",
              "      current browser session. Please rerun this cell to enable.\n",
              "      </output>\n",
              "      <script>// Copyright 2017 Google LLC\n",
              "//\n",
              "// Licensed under the Apache License, Version 2.0 (the \"License\");\n",
              "// you may not use this file except in compliance with the License.\n",
              "// You may obtain a copy of the License at\n",
              "//\n",
              "//      http://www.apache.org/licenses/LICENSE-2.0\n",
              "//\n",
              "// Unless required by applicable law or agreed to in writing, software\n",
              "// distributed under the License is distributed on an \"AS IS\" BASIS,\n",
              "// WITHOUT WARRANTIES OR CONDITIONS OF ANY KIND, either express or implied.\n",
              "// See the License for the specific language governing permissions and\n",
              "// limitations under the License.\n",
              "\n",
              "/**\n",
              " * @fileoverview Helpers for google.colab Python module.\n",
              " */\n",
              "(function(scope) {\n",
              "function span(text, styleAttributes = {}) {\n",
              "  const element = document.createElement('span');\n",
              "  element.textContent = text;\n",
              "  for (const key of Object.keys(styleAttributes)) {\n",
              "    element.style[key] = styleAttributes[key];\n",
              "  }\n",
              "  return element;\n",
              "}\n",
              "\n",
              "// Max number of bytes which will be uploaded at a time.\n",
              "const MAX_PAYLOAD_SIZE = 100 * 1024;\n",
              "\n",
              "function _uploadFiles(inputId, outputId) {\n",
              "  const steps = uploadFilesStep(inputId, outputId);\n",
              "  const outputElement = document.getElementById(outputId);\n",
              "  // Cache steps on the outputElement to make it available for the next call\n",
              "  // to uploadFilesContinue from Python.\n",
              "  outputElement.steps = steps;\n",
              "\n",
              "  return _uploadFilesContinue(outputId);\n",
              "}\n",
              "\n",
              "// This is roughly an async generator (not supported in the browser yet),\n",
              "// where there are multiple asynchronous steps and the Python side is going\n",
              "// to poll for completion of each step.\n",
              "// This uses a Promise to block the python side on completion of each step,\n",
              "// then passes the result of the previous step as the input to the next step.\n",
              "function _uploadFilesContinue(outputId) {\n",
              "  const outputElement = document.getElementById(outputId);\n",
              "  const steps = outputElement.steps;\n",
              "\n",
              "  const next = steps.next(outputElement.lastPromiseValue);\n",
              "  return Promise.resolve(next.value.promise).then((value) => {\n",
              "    // Cache the last promise value to make it available to the next\n",
              "    // step of the generator.\n",
              "    outputElement.lastPromiseValue = value;\n",
              "    return next.value.response;\n",
              "  });\n",
              "}\n",
              "\n",
              "/**\n",
              " * Generator function which is called between each async step of the upload\n",
              " * process.\n",
              " * @param {string} inputId Element ID of the input file picker element.\n",
              " * @param {string} outputId Element ID of the output display.\n",
              " * @return {!Iterable<!Object>} Iterable of next steps.\n",
              " */\n",
              "function* uploadFilesStep(inputId, outputId) {\n",
              "  const inputElement = document.getElementById(inputId);\n",
              "  inputElement.disabled = false;\n",
              "\n",
              "  const outputElement = document.getElementById(outputId);\n",
              "  outputElement.innerHTML = '';\n",
              "\n",
              "  const pickedPromise = new Promise((resolve) => {\n",
              "    inputElement.addEventListener('change', (e) => {\n",
              "      resolve(e.target.files);\n",
              "    });\n",
              "  });\n",
              "\n",
              "  const cancel = document.createElement('button');\n",
              "  inputElement.parentElement.appendChild(cancel);\n",
              "  cancel.textContent = 'Cancel upload';\n",
              "  const cancelPromise = new Promise((resolve) => {\n",
              "    cancel.onclick = () => {\n",
              "      resolve(null);\n",
              "    };\n",
              "  });\n",
              "\n",
              "  // Wait for the user to pick the files.\n",
              "  const files = yield {\n",
              "    promise: Promise.race([pickedPromise, cancelPromise]),\n",
              "    response: {\n",
              "      action: 'starting',\n",
              "    }\n",
              "  };\n",
              "\n",
              "  cancel.remove();\n",
              "\n",
              "  // Disable the input element since further picks are not allowed.\n",
              "  inputElement.disabled = true;\n",
              "\n",
              "  if (!files) {\n",
              "    return {\n",
              "      response: {\n",
              "        action: 'complete',\n",
              "      }\n",
              "    };\n",
              "  }\n",
              "\n",
              "  for (const file of files) {\n",
              "    const li = document.createElement('li');\n",
              "    li.append(span(file.name, {fontWeight: 'bold'}));\n",
              "    li.append(span(\n",
              "        `(${file.type || 'n/a'}) - ${file.size} bytes, ` +\n",
              "        `last modified: ${\n",
              "            file.lastModifiedDate ? file.lastModifiedDate.toLocaleDateString() :\n",
              "                                    'n/a'} - `));\n",
              "    const percent = span('0% done');\n",
              "    li.appendChild(percent);\n",
              "\n",
              "    outputElement.appendChild(li);\n",
              "\n",
              "    const fileDataPromise = new Promise((resolve) => {\n",
              "      const reader = new FileReader();\n",
              "      reader.onload = (e) => {\n",
              "        resolve(e.target.result);\n",
              "      };\n",
              "      reader.readAsArrayBuffer(file);\n",
              "    });\n",
              "    // Wait for the data to be ready.\n",
              "    let fileData = yield {\n",
              "      promise: fileDataPromise,\n",
              "      response: {\n",
              "        action: 'continue',\n",
              "      }\n",
              "    };\n",
              "\n",
              "    // Use a chunked sending to avoid message size limits. See b/62115660.\n",
              "    let position = 0;\n",
              "    do {\n",
              "      const length = Math.min(fileData.byteLength - position, MAX_PAYLOAD_SIZE);\n",
              "      const chunk = new Uint8Array(fileData, position, length);\n",
              "      position += length;\n",
              "\n",
              "      const base64 = btoa(String.fromCharCode.apply(null, chunk));\n",
              "      yield {\n",
              "        response: {\n",
              "          action: 'append',\n",
              "          file: file.name,\n",
              "          data: base64,\n",
              "        },\n",
              "      };\n",
              "\n",
              "      let percentDone = fileData.byteLength === 0 ?\n",
              "          100 :\n",
              "          Math.round((position / fileData.byteLength) * 100);\n",
              "      percent.textContent = `${percentDone}% done`;\n",
              "\n",
              "    } while (position < fileData.byteLength);\n",
              "  }\n",
              "\n",
              "  // All done.\n",
              "  yield {\n",
              "    response: {\n",
              "      action: 'complete',\n",
              "    }\n",
              "  };\n",
              "}\n",
              "\n",
              "scope.google = scope.google || {};\n",
              "scope.google.colab = scope.google.colab || {};\n",
              "scope.google.colab._files = {\n",
              "  _uploadFiles,\n",
              "  _uploadFilesContinue,\n",
              "};\n",
              "})(self);\n",
              "</script> "
            ]
          },
          "metadata": {}
        },
        {
          "output_type": "stream",
          "name": "stdout",
          "text": [
            "Saving Warren Buffett On Exposing Business Frauds And Deception.mp3 to Warren Buffett On Exposing Business Frauds And Deception.mp3\n"
          ]
        }
      ]
    },
    {
      "cell_type": "markdown",
      "source": [
        "# Call open AI's WHISPER for speech-to-text\n",
        " https://platform.openai.com/docs/guides/speech-to-text"
      ],
      "metadata": {
        "id": "vyKrG7WIXgvL"
      },
      "id": "vyKrG7WIXgvL"
    },
    {
      "cell_type": "code",
      "execution_count": 4,
      "id": "24907697",
      "metadata": {
        "id": "24907697"
      },
      "outputs": [],
      "source": [
        "audio_file = open(\"Warren Buffett On Exposing Business Frauds And Deception.mp3\", \"rb\")\n",
        "transcript = openai.Audio.transcribe(\"whisper-1\", audio_file)"
      ]
    },
    {
      "cell_type": "markdown",
      "source": [
        "# Get Response"
      ],
      "metadata": {
        "id": "nC206PPeX5cc"
      },
      "id": "nC206PPeX5cc"
    },
    {
      "cell_type": "code",
      "execution_count": 5,
      "id": "3310f97a",
      "metadata": {
        "colab": {
          "base_uri": "https://localhost:8080/"
        },
        "id": "3310f97a",
        "outputId": "3719f24e-ef5c-45ad-cc1b-f2e8949c450a"
      },
      "outputs": [
        {
          "output_type": "stream",
          "name": "stdout",
          "text": [
            "I get letters all the time and I hear from people who have been taken advantage of in financial transactions. And, you know, it really is — it's sad. And a lot of it isn't even — it's not fraud or anything. For one thing, I mean, just the charges involved, the frictional costs and the baloney that is presented is tough. Charlie and I have had very good luck in terms of buying businesses and putting our trust in people. It's been just overwhelmingly good. But we filter out a lot of people. And then they say, well, how do you filter them out? I would say — and I think Charlie will agree with this — people give themselves away fairly often. And maybe it does help to have been around as long as we have in seeing the various ways they give themselves away. They — when somebody comes to me with a business — and I probably shouldn't tell this publicly because they'll probably tailor their approach subsequently — but when they come, just the very things they talk about, what they regard as important and not important, there are a lot of clues that come as to subsequent behavior. And like I say, we've really had a batting average I wouldn't have thought we would have had in the people that we've joined with. But it hasn't been 100 percent. It's been well above 90. And I get asked that, you know, I mean, how do you make those judgments? And I don't know. Charlie, can you articulate the way we do it? Well, partly, we're deeply suspicious when the proposition is too good to be true. Warren once introduced me to a gentleman promoter who wanted to inveigle us into an insurance program, and he said, we only write fire insurance on concrete bridges that are covered by water. He says it's like taking candy from babies. We are able to filter out propositions like that. Anybody that — anybody that implicit in their comments or what they kind of laugh about or all kinds of things in terms of the fact, you know, it's so easy and it ain't that easy, you know. We get suspicious very quickly. And the truth is, we rule out 90 percent of the times, and we may be wrong about a fair number that we're ruling out. The important thing is whether the ones we're ruling in were right about. And so we don't mind — we're looking for the obvious cases of people you can trust. I think you really ought to talk about the experience with the fraud guy. What? On the fraud claim, you know, the fidelity claim with the guy, you know, you had a very well-known insurance company that you don't have to name names, but where that — you know, you basically told him just raise the stakes to make the game fair. This was back in the 1960s. Do you remember that? I don't remember. Oh, well, I do. I remember. Well, tell it then. Charlie had this tiny little operation, which he ran his fund, also had a seat on the Pacific Coast Stock Exchange. The firm was called Wheeler Munger. It was called Wheeler Munger at first. Later it changed itself to Munger Wheeler, and Jack Wheeler said, well, pretty soon it'll be Munger & Company, but that's OK. Jack Wheeler was a very interesting guy, and he had the specialist position in General Motors and a few things. And some employee stole like, I don't know, 12,000 bucks or something like that from the firm. Yeah, I remember. He had the trading tickets. Yeah. Some guy steals some money, and Charlie's firm, Wheeler Munger, was required to have a fidelity bond and all these things that covered dishonest employees and all of that sort. So this guy's clearly dishonest. He's clearly stolen the money. So Charlie puts in a claim for $12,000 or something like that, whatever the loss was, and sends it to this very big and prestigious insurance company. And of course, the insurance company denies this claim. They say, you know, the guy really wasn't employed. He doesn't exist. You don't have a dog. You know, I mean, the whole thing. And Charlie gets this letter back, and they're not going to pay the claim. And so Charlie writes a letter to this very well-known, big name person that runs the insurance company. And he said, look, we have this $12,000 claim. And he said, this guy stole the money. And we thought we had an insurance policy against people stealing. It was paid as people stole money. And he said, we're in this very interesting position, because you've got a bunch of people on the payroll, and they're going to get their weekly check or monthly check, whatever they do. So they just say, we're not going to pay. And life goes on. Whereas I'm sitting here, and I've got my time. I got to work on this thing. And it isn't worth the $12,000 for me to fool around with this claim against the company, and they'll appeal it and all these things. So he said, I know that you would be offended by the thought that you might be using this inequality of bargaining position to avoid paying up the claim. That never could be your intention. So what I suggest, in order to really live up to your code of behavior, is why don't we make the $12,000 claim? We'll just multiply it by 10 and call it $120,000 either way. And if you lose, you pay me $120,000. If I lose, I'll pay you $120,000. Now it's worth my while. And he addresses the letter to the chairman and says, that's the guy. He gets a $12,000 check by return mail. It's not a bad lesson. You can't identify 100% of the frauds, or 90%, or 80%, but there's certain ones that jump out to you. People give themselves away a lot, too. I mean, in poker, they talk about tells. And Charlie and I have bought a lot of businesses. And it's very important when we buy those businesses that we assess the individuals that we're buying from with some degree of accuracy, because they hand us the stock certificate, and we hand them a lot of money. And then we count on them to run the business with as much enthusiasm after they have the money as they did before. And so we are assessing people. And we don't think we can assess everyone accurately. We just have to be right about the ones where we make an affirmative decision. And those decisions have not always been perfect, but they've been pretty good. And I would say they've probably gotten a little bit better even as the years have passed. Similarly, in looking at financial statements, for example, in the insurance field, we've seen some frauds. And you can see things being done with loss reserves occasionally. We saw it back in—I won't name any names, unlike Charlie. I don't—we'll call them Company A's and B's instead of naming names. But you would see companies that when they were offering stock to the public, the year or two before that, the reserves would go down very suspiciously. Or even when they were selling them to other insurance companies, they were buying in stock, they might be building the reserves. But there's a million different ways. And I don't claim I know all the ways, obviously. But I have seen enough situations over the years, and I've seen how promoters act. And you can spot certain people who you know are one way or another playing games with the numbers. The proposals we see from the investment world—I've got to tell you about one because it illustrates what goes on—we received a proposition the other day, and I'll disguise the numbers a little bit so nobody can pick it out. But it was a private company, and we'll say it was earning $100 million a year. But the seller of the business and the investment banker suggested that we should look at the earnings as being $110 million a year, because as a private company, they had to pay their top people in cash, which was expensed. But we could pay them in stock options and things like that, which weren't expensed or were explained as not really counting. And therefore, we could report $110 million if we gave away something we didn't want to give away. But essentially, by sort of lying about our accounting, we could add $10 million to the earning. But we wanted us to pay them because they couldn't do it, and we could do it. And therefore, at this point, they're losing me, of course, totally. It's just astounding, the accounting games that are played. All the adjustments are why the place should really be—will be earning more than before. We also had one that came in from a private equity firm, and by a mistake, we got the email that was sent to the manager from the email from the private equity firms that owned it to the manager in terms of making projections for it. And they told him to add 15 percent because they say Buffett will discount it by 15 percent or 20 percent anyway. So just add 15 percent to offset his conservatism. It's not an elegant business, as Charlie will tell you.\n"
          ]
        }
      ],
      "source": [
        "print(transcript['text'])"
      ]
    },
    {
      "cell_type": "markdown",
      "source": [
        "# Call GPT3.5 for summarizing the audio file "
      ],
      "metadata": {
        "id": "RcH0geMUX8xI"
      },
      "id": "RcH0geMUX8xI"
    },
    {
      "cell_type": "code",
      "execution_count": 10,
      "id": "08cd4979",
      "metadata": {
        "id": "08cd4979"
      },
      "outputs": [],
      "source": [
        "response = openai.ChatCompletion.create(\n",
        "  model=\"gpt-3.5-turbo\",\n",
        "  messages=[\n",
        "        {\"role\": \"system\", \"content\": \"You are an expert on Warren Buffett and good at creating summaries.\"},\n",
        "        {\"role\": \"user\", \"content\": f\"Summarize the following transcript into key bullet points:\\n{transcript['text']}\"}\n",
        "    ]\n",
        ")"
      ]
    },
    {
      "cell_type": "code",
      "execution_count": 11,
      "id": "87f956f4",
      "metadata": {
        "colab": {
          "base_uri": "https://localhost:8080/"
        },
        "id": "87f956f4",
        "outputId": "c0030c52-8eaa-47ea-ef44-660fc2e1599b"
      },
      "outputs": [
        {
          "output_type": "stream",
          "name": "stdout",
          "text": [
            "- Warren Buffett often receives letters from people who have been taken advantage of in financial transactions\n",
            "- Buffett and Charlie have had good luck in buying businesses and trusting people but they also filter out a lot of people\n",
            "- People often give themselves away and their language offers clues as to their behavior and intentions\n",
            "- The filtering process is not foolproof, but it has been pretty good with over a 90% batting average\n",
            "- It's important to accurately assess individuals when buying businesses to ensure that they continue to run the business with the same enthusiasm after receiving payment\n",
            "- There have been some instances of fraud in the insurance field where financial statements were manipulated\n",
            "- Buffett and Charlie have seen a lot of accounting games and proposals that aim to manipulate financial statements in various ways\n",
            "- People will often introduce accounting adjustments to show that the company will be earning more than before\n",
            "- A private equity firm suggested adding 15% to the projections of a company they were selling to offset Buffett's conservatism\n"
          ]
        }
      ],
      "source": [
        "print(response['choices'][0]['message']['content'])"
      ]
    }
  ],
  "metadata": {
    "kernelspec": {
      "display_name": "Python 3 (ipykernel)",
      "language": "python",
      "name": "python3"
    },
    "language_info": {
      "codemirror_mode": {
        "name": "ipython",
        "version": 3
      },
      "file_extension": ".py",
      "mimetype": "text/x-python",
      "name": "python",
      "nbconvert_exporter": "python",
      "pygments_lexer": "ipython3",
      "version": "3.9.12"
    },
    "colab": {
      "provenance": [],
      "include_colab_link": true
    }
  },
  "nbformat": 4,
  "nbformat_minor": 5
}